{
 "cells": [
  {
   "cell_type": "code",
   "execution_count": null,
   "id": "c2eb5bf4",
   "metadata": {},
   "outputs": [],
   "source": [
    "import win32com.client # pip install pwin32\n",
    "import os\n",
    "import pandas as pd\n",
    "import numpy as np\n",
    "import re\n",
    "from datetime import datetime"
   ]
  },
  {
   "cell_type": "code",
   "execution_count": null,
   "id": "d56ca9a7",
   "metadata": {},
   "outputs": [],
   "source": [
    "mes_actual_str = 'Julio'\n",
    "mes_actual_int = '07'\n",
    "hoy= datetime.now().day\n",
    "mes_anterior_str = 'Junio'\n",
    "mes_anterior_int = '06'"
   ]
  },
  {
   "cell_type": "code",
   "execution_count": 8,
   "id": "eb49225a",
   "metadata": {},
   "outputs": [],
   "source": [
    "if len(str(hoy)) == 1:\n",
    "    hoy = '0' + str(hoy)"
   ]
  },
  {
   "cell_type": "code",
   "execution_count": 173,
   "id": "7eb41500",
   "metadata": {},
   "outputs": [],
   "source": [
    "ruta_suspension = 'C:/Users/BBARTOLOMEE/Desktop/SMS/WA PUSH Suspension Lineas/2025'"
   ]
  },
  {
   "cell_type": "code",
   "execution_count": 174,
   "id": "74f6d678",
   "metadata": {},
   "outputs": [],
   "source": [
    "def carpeta_ultima(ruta_suspension, mes_int, mes_str):\n",
    "    band = False\n",
    "    for archivo in os.listdir(ruta_suspension):\n",
    "        if archivo.lower().startswith(mes_actual_int):\n",
    "            band = True\n",
    "    if band is False:\n",
    "        print('Archivo del mes actual no encontrado, se crea uno')\n",
    "        os.mkdir(ruta_suspension + '/' + mes_int + '. ' +mes_str)\n",
    "    else:\n",
    "        print('Existe carpeta del mes actual')\n",
    "    \n",
    "    "
   ]
  },
  {
   "cell_type": "code",
   "execution_count": 175,
   "id": "3d663a67",
   "metadata": {},
   "outputs": [
    {
     "name": "stdout",
     "output_type": "stream",
     "text": [
      "Existe carpeta del mes actual\n"
     ]
    }
   ],
   "source": [
    "carpeta_ultima(ruta_suspension, mes_actual_int, mes_actual_str)"
   ]
  },
  {
   "cell_type": "code",
   "execution_count": 176,
   "id": "366dd9e5",
   "metadata": {},
   "outputs": [],
   "source": [
    "outlook = win32com.client.Dispatch(\"Outlook.Application\").GetNamespace(\"MAPI\")\n",
    "inbox = outlook.GetDefaultFolder(6)\n",
    "messages = inbox.Items\n",
    "messages.Sort(\"[ReceivedTime]\", True)\n",
    "\n",
    "remitente= \"pe-soporte@ep.net.pe\"\n",
    "palabra_clave_asunto = \"Suspensión\"\n",
    "\n",
    "download_folder = os.path.join(os.getcwd(), \"adjuntos_filtrados\")\n",
    "os.makedirs(download_folder, exist_ok=True)\n"
   ]
  },
  {
   "cell_type": "markdown",
   "id": "07724efc",
   "metadata": {},
   "source": [
    "<h4>Buscamos el correo y guardamos el excel adjunto</h4>"
   ]
  },
  {
   "cell_type": "code",
   "execution_count": 177,
   "id": "3ca31780",
   "metadata": {},
   "outputs": [],
   "source": [
    "for message in messages:\n",
    "    try:\n",
    "        if (remitente.lower() in message.SenderEmailAddress.lower() and \n",
    "            palabra_clave_asunto.lower() in message.Subject.lower()):\n",
    "            \n",
    "            print(f\"Correo encontrado: {message.Subject} - {message.SenderEmailAddress}\")\n",
    "            \n",
    "            if message.Attachments.Count > 0:\n",
    "                for i in range(1, message.Attachments.Count + 1):\n",
    "                    attachment = message.Attachments.Item(i)\n",
    "                    if attachment.FileName.endswith((\".xlsx\", \".xls\")):\n",
    "                        filepath = os.path.join(download_folder, attachment.FileName)\n",
    "                        attachment.SaveAsFile(filepath)\n",
    "                        print(f\"Archivo guardado: {filepath}\")\n",
    "\n",
    "                        # Leer Excel\n",
    "                        df = pd.read_excel(filepath, sheet_name = 'FILTRO DUPLICIDADES')\n",
    "                        print(df.head())\n",
    "                        break\n",
    "            break\n",
    "    except Exception as e:\n",
    "        print(\"Error al procesar un mensaje:\", e)\n",
    "else:\n",
    "    print(\"No se encontró un correo que cumpla los criterios.\")"
   ]
  },
  {
   "cell_type": "code",
   "execution_count": 178,
   "id": "3210a7d9",
   "metadata": {},
   "outputs": [],
   "source": [
    "Solicitante = ''\n",
    "if 'movistar' in message.Subject.lower():\n",
    "     Solicitante = 'Movistar'\n",
    "elif 'claro' in message.Subject.lower():\n",
    "     Solicitante = 'Claro'\n",
    "else:\n",
    "     pass"
   ]
  },
  {
   "cell_type": "code",
   "execution_count": 179,
   "id": "a9b5ad25",
   "metadata": {},
   "outputs": [
    {
     "name": "stdout",
     "output_type": "stream",
     "text": [
      "lunes 7 de julio\n"
     ]
    }
   ],
   "source": [
    "cuerpo = message.Body\n",
    "patron = r\"suspensión.*?a más tardar el\\s+(.*?)\\s+a las\\s+(\\d{1,2}:\\d{2})\\s*hrs\"\n",
    "coincidencia = re.search(patron, cuerpo, re.IGNORECASE | re.DOTALL)\n",
    "\n",
    "if coincidencia:\n",
    "    dia_y_fecha = coincidencia.group(1).strip()    \n",
    "    print(dia_y_fecha)\n",
    "else:\n",
    "    print(\"No se encontró la información de suspensión en el cuerpo del correo.\")\n"
   ]
  },
  {
   "cell_type": "code",
   "execution_count": 180,
   "id": "a7f7eb0b",
   "metadata": {},
   "outputs": [],
   "source": [
    "lista = dia_y_fecha.split(' ')\n",
    "dia = int(lista[1])\n",
    "mes = ''\n",
    "anio = 2025\n",
    "if lista[3] == mes_actual_str.lower():\n",
    "    mes = mes_actual_int\n",
    "else:\n",
    "    mes = mes_anterior_int\n",
    "\n",
    "fecha_dt = datetime(anio, int(mes), dia).strftime(\"%d/%m/%Y\")\n"
   ]
  },
  {
   "cell_type": "code",
   "execution_count": null,
   "id": "417a41c9",
   "metadata": {},
   "outputs": [],
   "source": [
    "df"
   ]
  },
  {
   "cell_type": "code",
   "execution_count": 182,
   "id": "0955919c",
   "metadata": {},
   "outputs": [],
   "source": [
    "df_rucs = df[df['SUB SEGMENTO']=='RUC 20']\n",
    "df_rucs.reset_index(drop=True,inplace=True)"
   ]
  },
  {
   "cell_type": "code",
   "execution_count": 183,
   "id": "b0fa6672",
   "metadata": {},
   "outputs": [],
   "source": [
    "df_rucs = df_rucs[['TELEFONO (51)', 'CARGO FIJO', 'ESTADO', 'SUB SEGMENTO']]\n",
    "df_rucs['Solicitante'] = Solicitante\n",
    "df_rucs['Medio Comunicación'] = 'SMS'\n",
    "df_rucs['Fecha Suspensión'] = fecha_dt\n",
    "df_rucs.rename(columns={'TELEFONO (51)':'TELEFONO','CARGO FIJO':'DEUDA','SUB SEGMENTO':'Tipo RUC'},inplace=True)"
   ]
  },
  {
   "cell_type": "code",
   "execution_count": null,
   "id": "2d45f7e0",
   "metadata": {},
   "outputs": [],
   "source": [
    "df_rucs"
   ]
  },
  {
   "cell_type": "code",
   "execution_count": 185,
   "id": "97dc28b0",
   "metadata": {},
   "outputs": [],
   "source": [
    "#Falta cruzar con suscriptores, afiliaciones, subir plantilla y copiar columnas"
   ]
  },
  {
   "cell_type": "code",
   "execution_count": 10,
   "id": "cd8285f1",
   "metadata": {},
   "outputs": [],
   "source": [
    "ruta_carpeta_suscriptores = 'C:/Users/BBARTOLOMEE/OneDrive - Entel Peru S.A/Afiliaciones/2025/'"
   ]
  },
  {
   "cell_type": "code",
   "execution_count": 11,
   "id": "17e454d0",
   "metadata": {},
   "outputs": [],
   "source": [
    "def carpeta_mes_suscriptores(ruta_suspension):\n",
    "    band = False\n",
    "    for archivo in os.listdir(ruta_suspension):\n",
    "        if archivo.lower().startswith(mes_actual_int):\n",
    "            band = True\n",
    "    return band"
   ]
  },
  {
   "cell_type": "code",
   "execution_count": 12,
   "id": "7ce7c78f",
   "metadata": {},
   "outputs": [],
   "source": [
    "carpeta = carpeta_mes_suscriptores(ruta_carpeta_suscriptores)\n",
    "\n",
    "if carpeta:\n",
    "    ruta_suscriptores = f'{ruta_carpeta_suscriptores}{mes_actual_int}. {mes_actual_str}/Suscriptores'\n",
    "else:\n",
    "    ruta_suscriptores = f'{ruta_carpeta_suscriptores}{mes_anterior_int}. {mes_anterior_str}/Suscriptores'   "
   ]
  },
  {
   "cell_type": "code",
   "execution_count": 189,
   "id": "abc85094",
   "metadata": {},
   "outputs": [],
   "source": [
    "def ultimo_excel_suscriptores(ruta_carpeta):\n",
    "    archivos_validos = []\n",
    "\n",
    "    for archivo in os.listdir(ruta_carpeta):\n",
    "        if archivo.lower().endswith('.xlsx') and \"Suscriptores.\" in archivo:\n",
    "            try:\n",
    "                partes = archivo.split(\".\")\n",
    "                if len(partes) >= 3:\n",
    "                    dia = int(partes[1])\n",
    "                    mes = int(partes[2])\n",
    "                    archivos_validos.append(((mes, dia), archivo))\n",
    "            except ValueError:\n",
    "                print(f\"'{archivo}' tiene un formato de fecha inválido.\")\n",
    "\n",
    "    if not archivos_validos:\n",
    "        print(\"No se encontraron archivos con fechas válidas.\")\n",
    "        return None\n",
    "\n",
    "    archivos_validos.sort(reverse=True)\n",
    "    return archivos_validos[0][1]"
   ]
  },
  {
   "cell_type": "code",
   "execution_count": 190,
   "id": "aeb0b62f",
   "metadata": {},
   "outputs": [
    {
     "name": "stdout",
     "output_type": "stream",
     "text": [
      "Suscriptores.01.07.xlsx\n"
     ]
    }
   ],
   "source": [
    "ultimo_suscriptores = ultimo_excel_suscriptores(ruta_suscriptores)\n",
    "print(ultimo_suscriptores)"
   ]
  },
  {
   "cell_type": "code",
   "execution_count": 191,
   "id": "0d56072c",
   "metadata": {},
   "outputs": [],
   "source": [
    "ruta_completa_suscriptores = ruta_suscriptores + '/' + ultimo_suscriptores\n",
    "df_suscriptores = pd.read_excel(ruta_completa_suscriptores)\n",
    "\n",
    "df_suscriptores.drop_duplicates(subset = 'TELEFONO', inplace = True)\n",
    "df_cruce_suscriptores = pd.merge(df_rucs, df_suscriptores[['TELEFONO','FECHAACTIVACIONCONTRATO','DOCUMENTO']], on = 'TELEFONO', how = 'left')"
   ]
  },
  {
   "cell_type": "code",
   "execution_count": 192,
   "id": "559b0279",
   "metadata": {},
   "outputs": [],
   "source": [
    "#df_rucs.info()\n",
    "#print('\\t-----------------------------\\n'*6)\n",
    "#df_cruce_suscriptores.info()"
   ]
  },
  {
   "cell_type": "code",
   "execution_count": null,
   "id": "8f372d2e",
   "metadata": {},
   "outputs": [],
   "source": [
    "df_cruce_suscriptores.head(7)"
   ]
  },
  {
   "cell_type": "code",
   "execution_count": 194,
   "id": "3c549960",
   "metadata": {},
   "outputs": [],
   "source": [
    "ruta_carpeta_afiliaciones = 'C:/Users/BBARTOLOMEE/OneDrive - Entel Peru S.A/Afiliaciones/2025'"
   ]
  },
  {
   "cell_type": "code",
   "execution_count": null,
   "id": "319fa614",
   "metadata": {},
   "outputs": [],
   "source": [
    "carpeta_afiliaciones = carpeta_mes_suscriptores(ruta_carpeta_afiliaciones)\n",
    "\n",
    "if carpeta_afiliaciones:\n",
    "    ruta_afiliaciones = f'{ruta_carpeta_afiliaciones}{mes_actual_int}. {mes_actual_str}/'\n",
    "    nombre_hoja = 'Afiliaciones '+ mes_actual_str + ' 25'\n",
    "else:\n",
    "    ruta_afiliaciones = f'{ruta_carpeta_afiliaciones}{mes_anterior_int}. {mes_anterior_str}/'   \n",
    "    nombre_hoja = 'Afiliaciones '+ mes_anterior_str + ' 25'"
   ]
  },
  {
   "cell_type": "code",
   "execution_count": 196,
   "id": "4c29e8fa",
   "metadata": {},
   "outputs": [],
   "source": [
    "#Buscar archivo afiliaciones para obtener su nombre actual\n",
    "def buscar_nombre_afiliaciones(ruta_afiliaciones):\n",
    "        for archivo in os.listdir(ruta_afiliaciones):\n",
    "                if archivo.lower().startswith('afiliaciones') and archivo.lower().endswith('25.xlsx'):\n",
    "                        nombre = archivo\n",
    "                        return nombre"
   ]
  },
  {
   "cell_type": "code",
   "execution_count": 197,
   "id": "2969688e",
   "metadata": {},
   "outputs": [],
   "source": [
    "nombre_afiliaciones = buscar_nombre_afiliaciones(ruta_afiliaciones)\n",
    "\n",
    "ruta_completa_afiliaciones = ruta_afiliaciones + nombre_afiliaciones "
   ]
  },
  {
   "cell_type": "code",
   "execution_count": 198,
   "id": "7eac23de",
   "metadata": {},
   "outputs": [],
   "source": [
    "df_afiliaciones = pd.read_excel(ruta_completa_afiliaciones, sheet_name= nombre_hoja)"
   ]
  },
  {
   "cell_type": "code",
   "execution_count": 199,
   "id": "d2d2a66f",
   "metadata": {},
   "outputs": [],
   "source": [
    "df_afiliaciones = df_afiliaciones.rename(columns={'RUCCOMPANIA': 'DOCUMENTO'})\n",
    "df_cruce_afiliaciones = pd.merge(df_cruce_suscriptores, df_afiliaciones[['DOCUMENTO','SUG_SEGM']], on = 'DOCUMENTO', how = 'left')"
   ]
  },
  {
   "cell_type": "code",
   "execution_count": null,
   "id": "a08c243e",
   "metadata": {},
   "outputs": [],
   "source": [
    "df_cruce_afiliaciones.head(5)"
   ]
  },
  {
   "cell_type": "code",
   "execution_count": 201,
   "id": "20e8661d",
   "metadata": {},
   "outputs": [],
   "source": [
    "df_cruce_afiliaciones['Fecha activacion'] = df_cruce_afiliaciones['FECHAACTIVACIONCONTRATO'].dt.strftime('%d/%m/%Y')\n",
    "df_final = df_cruce_afiliaciones[['TELEFONO','Fecha activacion', 'DOCUMENTO', 'Tipo RUC', 'ESTADO', 'SUG_SEGM', 'DEUDA', 'Solicitante', 'Fecha Suspensión', 'Medio Comunicación']].copy()"
   ]
  },
  {
   "cell_type": "code",
   "execution_count": null,
   "id": "10ce8389",
   "metadata": {},
   "outputs": [],
   "source": [
    "df_final"
   ]
  },
  {
   "cell_type": "code",
   "execution_count": 203,
   "id": "b9c6c109",
   "metadata": {},
   "outputs": [
    {
     "name": "stderr",
     "output_type": "stream",
     "text": [
      "C:\\Users\\BBARTOLOMEE\\AppData\\Local\\Temp\\ipykernel_81696\\268673776.py:11: FutureWarning: Setting an item of incompatible dtype is deprecated and will raise an error in a future version of pandas. Value 'pago' has dtype incompatible with float64, please explicitly cast to a compatible dtype first.\n",
      "  df_base_suspension.loc[condicion, 'Monto'] = 'pago'\n"
     ]
    }
   ],
   "source": [
    "df_base_suspension = pd.read_excel('Plantilla.xlsx')\n",
    "\n",
    "df_base_suspension['Celular'] = df_final['TELEFONO']\n",
    "df_base_suspension['Operador1'] = df_final['Solicitante']\n",
    "df_base_suspension['Número'] = df_final['TELEFONO']\n",
    "df_base_suspension['Fecha corte'] = df_final['Fecha Suspensión']\n",
    "df_base_suspension['Monto'] = df_final['DEUDA']\n",
    "df_base_suspension['Operador2'] = df_final['Solicitante']\n",
    "\n",
    "condicion = df_base_suspension['Monto'].isna()\n",
    "df_base_suspension.loc[condicion, 'Monto'] = 'pago'"
   ]
  },
  {
   "cell_type": "code",
   "execution_count": 204,
   "id": "351136b7",
   "metadata": {},
   "outputs": [
    {
     "name": "stderr",
     "output_type": "stream",
     "text": [
      "C:\\Users\\BBARTOLOMEE\\AppData\\Local\\Temp\\ipykernel_81696\\42174674.py:1: FutureWarning: Setting an item of incompatible dtype is deprecated and will raise an error in a future version of pandas. Value '#N/D' has dtype incompatible with float64, please explicitly cast to a compatible dtype first.\n",
      "  df_final.fillna(\"#N/D\", inplace=True)\n"
     ]
    }
   ],
   "source": [
    "df_final.fillna(\"#N/D\", inplace=True)"
   ]
  },
  {
   "cell_type": "code",
   "execution_count": null,
   "id": "d810fb38",
   "metadata": {},
   "outputs": [],
   "source": [
    "df_base_suspension"
   ]
  },
  {
   "cell_type": "code",
   "execution_count": null,
   "id": "a55080fe",
   "metadata": {},
   "outputs": [],
   "source": [
    "df_base_suspension.to_excel(f'C:/Users/BBARTOLOMEE/Desktop/SMS/WA PUSH Suspension Lineas/2025/{mes_actual_int}. {mes_actual_str}/Suspension Lineas {hoy}.{mes_actual_int}.xlsx', index = False)\n",
    "df_final.to_excel('Añadir a base general.xlsx', index = False)"
   ]
  }
 ],
 "metadata": {
  "kernelspec": {
   "display_name": "Python 3",
   "language": "python",
   "name": "python3"
  },
  "language_info": {
   "codemirror_mode": {
    "name": "ipython",
    "version": 3
   },
   "file_extension": ".py",
   "mimetype": "text/x-python",
   "name": "python",
   "nbconvert_exporter": "python",
   "pygments_lexer": "ipython3",
   "version": "3.11.1"
  }
 },
 "nbformat": 4,
 "nbformat_minor": 5
}
